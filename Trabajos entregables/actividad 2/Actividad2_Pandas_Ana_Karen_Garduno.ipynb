{
 "cells": [
  {
   "cell_type": "markdown",
   "metadata": {},
   "source": [
    "<img style=\"float: left;;\" src='Figures/alinco.png' /></a>\n",
    "    \n",
    "# <center> <font color= #000047> Actividad 2: librería Pandas.</font>\n",
    "___\n",
    "\n"
   ]
  },
  {
   "cell_type": "markdown",
   "metadata": {},
   "source": [
    "### Utilizando el archivo [titanic.csv], realice lo que se le pide:\n"
   ]
  },
  {
   "cell_type": "markdown",
   "metadata": {},
   "source": [
    "\n",
    "**1. Generar un DataFrame con los datos del fichero.**\n"
   ]
  },
  {
   "cell_type": "markdown",
   "metadata": {},
   "source": [
    "**2. Mostrar por pantalla las dimensiones del DataFrame, el número de datos que contiene, los nombres de sus columnas y filas, los tipos de datos de las columnas, las 10 primeras filas y las 10 últimas filas.**\n"
   ]
  },
  {
   "cell_type": "code",
   "execution_count": null,
   "metadata": {},
   "outputs": [
    {
     "name": "stdout",
     "output_type": "stream",
     "text": [
      "   PassengerId  Survived  Pclass  \\\n",
      "0            1         0       3   \n",
      "1            2         1       1   \n",
      "2            3         1       3   \n",
      "3            4         1       1   \n",
      "4            5         0       3   \n",
      "5            6         0       3   \n",
      "6            7         0       1   \n",
      "7            8         0       3   \n",
      "8            9         1       3   \n",
      "9           10         1       2   \n",
      "\n",
      "                                                Name     Sex   Age  SibSp  \\\n",
      "0                            Braund, Mr. Owen Harris    male  22.0      1   \n",
      "1  Cumings, Mrs. John Bradley (Florence Briggs Th...  female  38.0      1   \n",
      "2                             Heikkinen, Miss. Laina  female  26.0      0   \n",
      "3       Futrelle, Mrs. Jacques Heath (Lily May Peel)  female  35.0      1   \n",
      "4                           Allen, Mr. William Henry    male  35.0      0   \n",
      "5                                   Moran, Mr. James    male   NaN      0   \n",
      "6                            McCarthy, Mr. Timothy J    male  54.0      0   \n",
      "7                     Palsson, Master. Gosta Leonard    male   2.0      3   \n",
      "8  Johnson, Mrs. Oscar W (Elisabeth Vilhelmina Berg)  female  27.0      0   \n",
      "9                Nasser, Mrs. Nicholas (Adele Achem)  female  14.0      1   \n",
      "\n",
      "   Parch            Ticket     Fare Cabin Embarked  \n",
      "0      0         A/5 21171   7.2500   NaN        S  \n",
      "1      0          PC 17599  71.2833   C85        C  \n",
      "2      0  STON/O2. 3101282   7.9250   NaN        S  \n",
      "3      0            113803  53.1000  C123        S  \n",
      "4      0            373450   8.0500   NaN        S  \n",
      "5      0            330877   8.4583   NaN        Q  \n",
      "6      0             17463  51.8625   E46        S  \n",
      "7      1            349909  21.0750   NaN        S  \n",
      "8      2            347742  11.1333   NaN        S  \n",
      "9      0            237736  30.0708   NaN        C  \n"
     ]
    }
   ],
   "source": [
    "import pandas as pd\n",
    "import numpy as np\n",
    "df=r\"titanic.csv\"\n",
    "t=pd.read_csv(df)\n",
    "print(t.head(10))\n"
   ]
  },
  {
   "cell_type": "markdown",
   "metadata": {},
   "source": [
    "**3. Mostrar por pantalla los datos del pasajero con identificador 148.**\n"
   ]
  },
  {
   "cell_type": "code",
   "execution_count": 7,
   "metadata": {},
   "outputs": [
    {
     "name": "stdout",
     "output_type": "stream",
     "text": [
      "pasajero con el identificador 148 PassengerId                                         149\n",
      "Survived                                              0\n",
      "Pclass                                                2\n",
      "Name           Navratil, Mr. Michel (\"Louis M Hoffman\")\n",
      "Sex                                                male\n",
      "Age                                                36.5\n",
      "SibSp                                                 0\n",
      "Parch                                                 2\n",
      "Ticket                                           230080\n",
      "Fare                                               26.0\n",
      "Cabin                                                F2\n",
      "Embarked                                              S\n",
      "Name: 148, dtype: object\n"
     ]
    }
   ],
   "source": [
    "print(\"pasajero con el identificador 148\",t.loc[148])"
   ]
  },
  {
   "cell_type": "markdown",
   "metadata": {},
   "source": [
    "**4. Mostrar por pantalla las filas pares del DataFrame.**\n"
   ]
  },
  {
   "cell_type": "code",
   "execution_count": 8,
   "metadata": {},
   "outputs": [
    {
     "name": "stdout",
     "output_type": "stream",
     "text": [
      "     PassengerId  Survived  Pclass  \\\n",
      "0              1         0       3   \n",
      "2              3         1       3   \n",
      "4              5         0       3   \n",
      "6              7         0       1   \n",
      "8              9         1       3   \n",
      "..           ...       ...     ...   \n",
      "882          883         0       3   \n",
      "884          885         0       3   \n",
      "886          887         0       2   \n",
      "888          889         0       3   \n",
      "890          891         0       3   \n",
      "\n",
      "                                                  Name     Sex   Age  SibSp  \\\n",
      "0                              Braund, Mr. Owen Harris    male  22.0      1   \n",
      "2                               Heikkinen, Miss. Laina  female  26.0      0   \n",
      "4                             Allen, Mr. William Henry    male  35.0      0   \n",
      "6                              McCarthy, Mr. Timothy J    male  54.0      0   \n",
      "8    Johnson, Mrs. Oscar W (Elisabeth Vilhelmina Berg)  female  27.0      0   \n",
      "..                                                 ...     ...   ...    ...   \n",
      "882                       Dahlberg, Miss. Gerda Ulrika  female  22.0      0   \n",
      "884                             Sutehall, Mr. Henry Jr    male  25.0      0   \n",
      "886                              Montvila, Rev. Juozas    male  27.0      0   \n",
      "888           Johnston, Miss. Catherine Helen \"Carrie\"  female   NaN      1   \n",
      "890                                Dooley, Mr. Patrick    male  32.0      0   \n",
      "\n",
      "     Parch            Ticket     Fare Cabin Embarked  \n",
      "0        0         A/5 21171   7.2500   NaN        S  \n",
      "2        0  STON/O2. 3101282   7.9250   NaN        S  \n",
      "4        0            373450   8.0500   NaN        S  \n",
      "6        0             17463  51.8625   E46        S  \n",
      "8        2            347742  11.1333   NaN        S  \n",
      "..     ...               ...      ...   ...      ...  \n",
      "882      0              7552  10.5167   NaN        S  \n",
      "884      0   SOTON/OQ 392076   7.0500   NaN        S  \n",
      "886      0            211536  13.0000   NaN        S  \n",
      "888      2        W./C. 6607  23.4500   NaN        S  \n",
      "890      0            370376   7.7500   NaN        Q  \n",
      "\n",
      "[446 rows x 12 columns]\n"
     ]
    }
   ],
   "source": [
    "print (t.iloc[::2])"
   ]
  },
  {
   "cell_type": "markdown",
   "metadata": {},
   "source": [
    "**5. Mostrar por pantalla los nombres de las personas que iban en primera clase ordenadas alfabéticamente.**\n"
   ]
  },
  {
   "cell_type": "code",
   "execution_count": 11,
   "metadata": {},
   "outputs": [
    {
     "name": "stdout",
     "output_type": "stream",
     "text": [
      "730                      Allen, Miss. Elisabeth Walton\n",
      "305                     Allison, Master. Hudson Trevor\n",
      "297                       Allison, Miss. Helen Loraine\n",
      "498    Allison, Mrs. Hudson J C (Bessie Waldo Daniels)\n",
      "460                                Anderson, Mr. Harry\n",
      "                            ...                       \n",
      "155                        Williams, Mr. Charles Duane\n",
      "351             Williams-Lambert, Mr. Fletcher Fellows\n",
      "55                                   Woolner, Mr. Hugh\n",
      "555                                 Wright, Mr. George\n",
      "325                           Young, Miss. Marie Grice\n",
      "Name: Name, Length: 216, dtype: object\n"
     ]
    }
   ],
   "source": [
    "primera_clase = t[t['Pclass'] == 1]\n",
    "nombres_ordenados = primera_clase['Name'].sort_values()\n",
    "print(nombres_ordenados)"
   ]
  },
  {
   "cell_type": "markdown",
   "metadata": {},
   "source": [
    "**6. Mostrar por pantalla el porcentaje de personas que sobrevivieron y murieron.**\n"
   ]
  },
  {
   "cell_type": "code",
   "execution_count": 13,
   "metadata": {},
   "outputs": [
    {
     "name": "stdout",
     "output_type": "stream",
     "text": [
      "Porcentaje de personas que murieron y sobrevivieron:\n",
      "Survived\n",
      "0    61.616162\n",
      "1    38.383838\n",
      "Name: proportion, dtype: float64\n"
     ]
    }
   ],
   "source": [
    "porcentajes = t['Survived'].value_counts(normalize=True) * 100\n",
    "\n",
    "print(\"Porcentaje de personas que murieron y sobrevivieron:\")\n",
    "print(porcentajes)"
   ]
  },
  {
   "cell_type": "markdown",
   "metadata": {},
   "source": [
    "**7. Mostrar por pantalla el porcentaje de personas que sobrevivieron en cada clase.**\n"
   ]
  },
  {
   "cell_type": "code",
   "execution_count": 14,
   "metadata": {},
   "outputs": [
    {
     "name": "stdout",
     "output_type": "stream",
     "text": [
      "Porcentaje de supervivientes por clase:\n",
      "Pclass\n",
      "1    62.962963\n",
      "2    47.282609\n",
      "3    24.236253\n",
      "Name: Survived, dtype: float64\n"
     ]
    }
   ],
   "source": [
    "porcentaje_supervivencia = t.groupby('Pclass')['Survived'].mean() * 100\n",
    "\n",
    "print(\"Porcentaje de supervivientes por clase:\")\n",
    "print(porcentaje_supervivencia)"
   ]
  },
  {
   "cell_type": "markdown",
   "metadata": {},
   "source": [
    "**8. Eliminar del DataFrame los pasajeros con edad desconocida.**\n"
   ]
  },
  {
   "cell_type": "code",
   "execution_count": 15,
   "metadata": {},
   "outputs": [
    {
     "name": "stdout",
     "output_type": "stream",
     "text": [
      "0\n",
      "Número de filas después de eliminar pasajeros con edad desconocida: 714\n"
     ]
    }
   ],
   "source": [
    "limpio = t.dropna(subset=['Age'])\n",
    "\n",
    "# Verificar que no hay valores nulos en Age\n",
    "print(limpio['Age'].isnull().sum())\n",
    "print(\"Número de filas después de eliminar pasajeros con edad desconocida:\", len(limpio))\n"
   ]
  },
  {
   "cell_type": "markdown",
   "metadata": {},
   "source": [
    "**9. Mostrar por pantalla la edad media de las mujeres que viajaban en cada clase.**\n"
   ]
  },
  {
   "cell_type": "code",
   "execution_count": 8,
   "metadata": {},
   "outputs": [],
   "source": [
    "# código aquí\n"
   ]
  },
  {
   "cell_type": "markdown",
   "metadata": {},
   "source": [
    "**10.  Añadir una nueva columna booleana para ver si el pasajero era menor de edad o no.**\n"
   ]
  },
  {
   "cell_type": "code",
   "execution_count": 17,
   "metadata": {},
   "outputs": [
    {
     "name": "stdout",
     "output_type": "stream",
     "text": [
      "                                                Name   Age  MenorEdad\n",
      "0                            Braund, Mr. Owen Harris  22.0      False\n",
      "1  Cumings, Mrs. John Bradley (Florence Briggs Th...  38.0      False\n",
      "2                             Heikkinen, Miss. Laina  26.0      False\n",
      "3       Futrelle, Mrs. Jacques Heath (Lily May Peel)  35.0      False\n",
      "4                           Allen, Mr. William Henry  35.0      False\n"
     ]
    }
   ],
   "source": [
    "t['MenorEdad'] = t['Age'] < 18\n",
    "\n",
    "\n",
    "print(t[['Name', 'Age', 'MenorEdad']].head())\n"
   ]
  },
  {
   "cell_type": "markdown",
   "metadata": {},
   "source": [
    "**11.  Mostrar por pantalla el porcentaje de menores y mayores de edad que sobrevivieron en cada clase.**"
   ]
  },
  {
   "cell_type": "code",
   "execution_count": 18,
   "metadata": {},
   "outputs": [
    {
     "name": "stdout",
     "output_type": "stream",
     "text": [
      "Porcentaje de supervivientes por clase y edad (menor/mayor):\n",
      "Pclass  MenorEdad\n",
      "1       False        61.274510\n",
      "        True         91.666667\n",
      "2       False        40.993789\n",
      "        True         91.304348\n",
      "3       False        21.791768\n",
      "        True         37.179487\n",
      "Name: Survived, dtype: float64\n"
     ]
    }
   ],
   "source": [
    "\n",
    "t['MenorEdad'] = t['Age'] < 18\n",
    "\n",
    "# Agrupar por clase y por si es menor de edad, luego calcular el porcentaje de supervivientes\n",
    "porcentaje_supervivientes = t.groupby(['Pclass', 'MenorEdad'])['Survived'].mean() * 100\n",
    "\n",
    "print(\"Porcentaje de supervivientes por clase y edad (menor/mayor):\")\n",
    "print(porcentaje_supervivientes)"
   ]
  },
  {
   "cell_type": "code",
   "execution_count": null,
   "metadata": {},
   "outputs": [],
   "source": []
  },
  {
   "cell_type": "code",
   "execution_count": null,
   "metadata": {},
   "outputs": [],
   "source": []
  },
  {
   "cell_type": "markdown",
   "metadata": {},
   "source": [
    "**11.  Mostrar por pantalla el porcentaje de menores y mayores de edad que sobrevivieron en cada clase.**"
   ]
  },
  {
   "cell_type": "code",
   "execution_count": 20,
   "metadata": {},
   "outputs": [
    {
     "name": "stdout",
     "output_type": "stream",
     "text": [
      "   Pclass  MenorEdad  PorcentajeSupervivientes\n",
      "0       1      False                 61.274510\n",
      "1       1       True                 91.666667\n",
      "2       2      False                 40.993789\n",
      "3       2       True                 91.304348\n",
      "4       3      False                 21.791768\n",
      "5       3       True                 37.179487\n"
     ]
    }
   ],
   "source": [
    "t['MenorEdad'] = t['Age'] < 18\n",
    "\n",
    "# Agrupar por clase y por menor/mayor de edad, calcular porcentaje de supervivientes\n",
    "supervivientes = t.groupby(['Pclass', 'MenorEdad'])['Survived'].mean() * 100\n",
    "\n",
    "# Convertir a DataFrame y renombrar columna para mejor presentación\n",
    "porcentaje = supervivientes.reset_index()\n",
    "porcentaje.rename(columns={'Survived': 'PorcentajeSupervivientes'}, inplace=True)\n",
    "print(porcentaje)"
   ]
  },
  {
   "cell_type": "code",
   "execution_count": null,
   "metadata": {},
   "outputs": [],
   "source": []
  }
 ],
 "metadata": {
  "kernelspec": {
   "display_name": "Python 3 (ipykernel)",
   "language": "python",
   "name": "python3"
  },
  "language_info": {
   "codemirror_mode": {
    "name": "ipython",
    "version": 3
   },
   "file_extension": ".py",
   "mimetype": "text/x-python",
   "name": "python",
   "nbconvert_exporter": "python",
   "pygments_lexer": "ipython3",
   "version": "3.13.5"
  }
 },
 "nbformat": 4,
 "nbformat_minor": 4
}
